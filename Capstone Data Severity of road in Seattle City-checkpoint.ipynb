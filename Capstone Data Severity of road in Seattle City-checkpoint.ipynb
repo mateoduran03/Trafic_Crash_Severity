{
 "cells": [
  {
   "cell_type": "code",
   "execution_count": 221,
   "metadata": {},
   "outputs": [],
   "source": [
    "import pandas as pd\n",
    "import numpy as np\n",
    "import matplotlib.pyplot as plt\n",
    "import seaborn as sns\n",
    "%matplotlib inline"
   ]
  },
  {
   "cell_type": "markdown",
   "metadata": {},
   "source": [
    "# INTRODUCTION\n",
    "\n",
    "## Business Problem\n",
    "\n",
    "The problem statement is to predict severity of road accidents caused by a wide variety of factors in Seattle City. It will be very useful an accurate prediction to the following audience:\n",
    "\n",
    "#### City administration \n",
    "\n",
    "Seattle city administrators can take precautions based on this data. They can set up speed limits and other precautionary measures such as speed breakers.\n",
    "\n",
    "#### Hospitals\n",
    "\n",
    "Hospitals can be placed near high accident areas in order to help quickly to any victim.\n",
    "\n",
    "#### All of us\n",
    "\n",
    "Due to the weather, road conditions or locations we can be aware about dangers an drive carefully or even change our route towards our destiny.\n",
    "\n",
    "## Data\n",
    "\n",
    "The data I will use in this project is accident severity data in Seattle.\n"
   ]
  },
  {
   "cell_type": "markdown",
   "metadata": {},
   "source": [
    "# Metadata Description\n",
    "\n",
    "SEVERITYCODE: A code that corresponds to the severity of the collision: (My Target variable)\n",
    "\n",
    "OBJECTID: ESRI unique identifier\n",
    "\n",
    "INCKEY: A unique key for the incident\n",
    "\n",
    "COLDETKEY: Secondary key for the incident\n",
    "\n",
    "REPORTNO\n",
    "\n",
    "STATUS\n",
    "\n",
    "ADDRTYPE: Collision address type\n",
    "\n",
    "INTKEY: Key that corresponds to the intersection associated with a collision\n",
    "\n",
    "LOCATION: Description of the general location of the collision\n",
    "\n",
    "EXCEPTRSNCODE\n",
    "\n",
    "EXCEPTRSNDESC\n",
    "\n",
    "SEVERITYDESC: A detailed description of the severity of the collision\n",
    "\n",
    "COLLISIONTYPE\n",
    "\n",
    "PERSONCOUNT: The total number of people involved in the collision\n",
    "\n",
    "PEDCOUNT: The number of pedestrians involved in the collision\n",
    "\n",
    "PEDCYLCOUNT: The number of bicycles involved in the collision\n",
    "\n",
    "VEHCOUNT: The number of vehicles involved in the collision\n",
    "\n",
    "INCDATE: The date of the incident\n",
    "\n",
    "INCDTTM: The date and time of the incident\n",
    "\n",
    "JUNCTIONTYPE: Category of junction at which collision took place\n",
    "\n",
    "SDOT_COLCODE: A code given to the collision by SDOT\n",
    "\n",
    "SDOT_COLDESC: A description of the collision corresponding to the collision code\n",
    "\n",
    "INATTENTIONIND: Whether or not collision was due to inattention\n",
    "\n",
    "UNDERINFL: Whether or not a driver involved was under the influence of drugs or alcohol\n",
    "\n",
    "WEATHER: A description of the weather conditions during the time of the collision\n",
    "\n",
    "ROADCOND: The condition of the road during the collision\n",
    "\n",
    "LIGHTCOND: The light conditions during the collision\n",
    "\n",
    "PEDROWNOTGRNT: Whether or not the pedestrian right of way was not granted\n",
    "\n",
    "SDOTCOLNUM: A number given to the collision by SDOT\n",
    "\n",
    "SPEEDING: Whether or not speeding was a factor in the collision\n",
    "\n",
    "ST_COLCODE: A code provided by the state that describes the collision\n",
    "\n",
    "ST_COLDESC: A description that corresponds to the state’s coding designation\n",
    "\n",
    "SEGLANEKEY: A key for the lane segment in which the collision occurred\n",
    "\n",
    "CROSSWALKKEY: A key for the crosswalk at which the collision occurred\n",
    "\n",
    "HITPARKEDCAR: Whether or not the collision involved hitting a parked car\n",
    "\n",
    "### 38 Total"
   ]
  },
  {
   "cell_type": "code",
   "execution_count": 222,
   "metadata": {},
   "outputs": [
    {
     "name": "stderr",
     "output_type": "stream",
     "text": [
      "C:\\Users\\Mateo\\anaconda3\\lib\\site-packages\\IPython\\core\\interactiveshell.py:3063: DtypeWarning: Columns (33) have mixed types.Specify dtype option on import or set low_memory=False.\n",
      "  interactivity=interactivity, compiler=compiler, result=result)\n"
     ]
    },
    {
     "data": {
      "text/html": [
       "<div>\n",
       "<style scoped>\n",
       "    .dataframe tbody tr th:only-of-type {\n",
       "        vertical-align: middle;\n",
       "    }\n",
       "\n",
       "    .dataframe tbody tr th {\n",
       "        vertical-align: top;\n",
       "    }\n",
       "\n",
       "    .dataframe thead th {\n",
       "        text-align: right;\n",
       "    }\n",
       "</style>\n",
       "<table border=\"1\" class=\"dataframe\">\n",
       "  <thead>\n",
       "    <tr style=\"text-align: right;\">\n",
       "      <th></th>\n",
       "      <th>SEVERITYCODE</th>\n",
       "      <th>X</th>\n",
       "      <th>Y</th>\n",
       "      <th>OBJECTID</th>\n",
       "      <th>INCKEY</th>\n",
       "      <th>COLDETKEY</th>\n",
       "      <th>REPORTNO</th>\n",
       "      <th>STATUS</th>\n",
       "      <th>ADDRTYPE</th>\n",
       "      <th>INTKEY</th>\n",
       "      <th>...</th>\n",
       "      <th>ROADCOND</th>\n",
       "      <th>LIGHTCOND</th>\n",
       "      <th>PEDROWNOTGRNT</th>\n",
       "      <th>SDOTCOLNUM</th>\n",
       "      <th>SPEEDING</th>\n",
       "      <th>ST_COLCODE</th>\n",
       "      <th>ST_COLDESC</th>\n",
       "      <th>SEGLANEKEY</th>\n",
       "      <th>CROSSWALKKEY</th>\n",
       "      <th>HITPARKEDCAR</th>\n",
       "    </tr>\n",
       "  </thead>\n",
       "  <tbody>\n",
       "    <tr>\n",
       "      <th>0</th>\n",
       "      <td>2</td>\n",
       "      <td>-122.323148</td>\n",
       "      <td>47.703140</td>\n",
       "      <td>1</td>\n",
       "      <td>1307</td>\n",
       "      <td>1307</td>\n",
       "      <td>3502005</td>\n",
       "      <td>Matched</td>\n",
       "      <td>Intersection</td>\n",
       "      <td>37475.0</td>\n",
       "      <td>...</td>\n",
       "      <td>Wet</td>\n",
       "      <td>Daylight</td>\n",
       "      <td>NaN</td>\n",
       "      <td>NaN</td>\n",
       "      <td>NaN</td>\n",
       "      <td>10</td>\n",
       "      <td>Entering at angle</td>\n",
       "      <td>0</td>\n",
       "      <td>0</td>\n",
       "      <td>N</td>\n",
       "    </tr>\n",
       "    <tr>\n",
       "      <th>1</th>\n",
       "      <td>1</td>\n",
       "      <td>-122.347294</td>\n",
       "      <td>47.647172</td>\n",
       "      <td>2</td>\n",
       "      <td>52200</td>\n",
       "      <td>52200</td>\n",
       "      <td>2607959</td>\n",
       "      <td>Matched</td>\n",
       "      <td>Block</td>\n",
       "      <td>NaN</td>\n",
       "      <td>...</td>\n",
       "      <td>Wet</td>\n",
       "      <td>Dark - Street Lights On</td>\n",
       "      <td>NaN</td>\n",
       "      <td>6354039.0</td>\n",
       "      <td>NaN</td>\n",
       "      <td>11</td>\n",
       "      <td>From same direction - both going straight - bo...</td>\n",
       "      <td>0</td>\n",
       "      <td>0</td>\n",
       "      <td>N</td>\n",
       "    </tr>\n",
       "    <tr>\n",
       "      <th>2</th>\n",
       "      <td>1</td>\n",
       "      <td>-122.334540</td>\n",
       "      <td>47.607871</td>\n",
       "      <td>3</td>\n",
       "      <td>26700</td>\n",
       "      <td>26700</td>\n",
       "      <td>1482393</td>\n",
       "      <td>Matched</td>\n",
       "      <td>Block</td>\n",
       "      <td>NaN</td>\n",
       "      <td>...</td>\n",
       "      <td>Dry</td>\n",
       "      <td>Daylight</td>\n",
       "      <td>NaN</td>\n",
       "      <td>4323031.0</td>\n",
       "      <td>NaN</td>\n",
       "      <td>32</td>\n",
       "      <td>One parked--one moving</td>\n",
       "      <td>0</td>\n",
       "      <td>0</td>\n",
       "      <td>N</td>\n",
       "    </tr>\n",
       "    <tr>\n",
       "      <th>3</th>\n",
       "      <td>1</td>\n",
       "      <td>-122.334803</td>\n",
       "      <td>47.604803</td>\n",
       "      <td>4</td>\n",
       "      <td>1144</td>\n",
       "      <td>1144</td>\n",
       "      <td>3503937</td>\n",
       "      <td>Matched</td>\n",
       "      <td>Block</td>\n",
       "      <td>NaN</td>\n",
       "      <td>...</td>\n",
       "      <td>Dry</td>\n",
       "      <td>Daylight</td>\n",
       "      <td>NaN</td>\n",
       "      <td>NaN</td>\n",
       "      <td>NaN</td>\n",
       "      <td>23</td>\n",
       "      <td>From same direction - all others</td>\n",
       "      <td>0</td>\n",
       "      <td>0</td>\n",
       "      <td>N</td>\n",
       "    </tr>\n",
       "    <tr>\n",
       "      <th>4</th>\n",
       "      <td>2</td>\n",
       "      <td>-122.306426</td>\n",
       "      <td>47.545739</td>\n",
       "      <td>5</td>\n",
       "      <td>17700</td>\n",
       "      <td>17700</td>\n",
       "      <td>1807429</td>\n",
       "      <td>Matched</td>\n",
       "      <td>Intersection</td>\n",
       "      <td>34387.0</td>\n",
       "      <td>...</td>\n",
       "      <td>Wet</td>\n",
       "      <td>Daylight</td>\n",
       "      <td>NaN</td>\n",
       "      <td>4028032.0</td>\n",
       "      <td>NaN</td>\n",
       "      <td>10</td>\n",
       "      <td>Entering at angle</td>\n",
       "      <td>0</td>\n",
       "      <td>0</td>\n",
       "      <td>N</td>\n",
       "    </tr>\n",
       "  </tbody>\n",
       "</table>\n",
       "<p>5 rows × 38 columns</p>\n",
       "</div>"
      ],
      "text/plain": [
       "   SEVERITYCODE           X          Y  OBJECTID  INCKEY  COLDETKEY REPORTNO  \\\n",
       "0             2 -122.323148  47.703140         1    1307       1307  3502005   \n",
       "1             1 -122.347294  47.647172         2   52200      52200  2607959   \n",
       "2             1 -122.334540  47.607871         3   26700      26700  1482393   \n",
       "3             1 -122.334803  47.604803         4    1144       1144  3503937   \n",
       "4             2 -122.306426  47.545739         5   17700      17700  1807429   \n",
       "\n",
       "    STATUS      ADDRTYPE   INTKEY  ... ROADCOND                LIGHTCOND  \\\n",
       "0  Matched  Intersection  37475.0  ...      Wet                 Daylight   \n",
       "1  Matched         Block      NaN  ...      Wet  Dark - Street Lights On   \n",
       "2  Matched         Block      NaN  ...      Dry                 Daylight   \n",
       "3  Matched         Block      NaN  ...      Dry                 Daylight   \n",
       "4  Matched  Intersection  34387.0  ...      Wet                 Daylight   \n",
       "\n",
       "  PEDROWNOTGRNT  SDOTCOLNUM SPEEDING ST_COLCODE  \\\n",
       "0           NaN         NaN      NaN         10   \n",
       "1           NaN   6354039.0      NaN         11   \n",
       "2           NaN   4323031.0      NaN         32   \n",
       "3           NaN         NaN      NaN         23   \n",
       "4           NaN   4028032.0      NaN         10   \n",
       "\n",
       "                                          ST_COLDESC  SEGLANEKEY  \\\n",
       "0                                  Entering at angle           0   \n",
       "1  From same direction - both going straight - bo...           0   \n",
       "2                             One parked--one moving           0   \n",
       "3                   From same direction - all others           0   \n",
       "4                                  Entering at angle           0   \n",
       "\n",
       "   CROSSWALKKEY  HITPARKEDCAR  \n",
       "0             0             N  \n",
       "1             0             N  \n",
       "2             0             N  \n",
       "3             0             N  \n",
       "4             0             N  \n",
       "\n",
       "[5 rows x 38 columns]"
      ]
     },
     "execution_count": 222,
     "metadata": {},
     "output_type": "execute_result"
    }
   ],
   "source": [
    "df=pd.read_csv(\"file:///C:/Users/Mateo/Downloads/Data-Collisions%20(3).csv\")\n",
    "df.head()"
   ]
  },
  {
   "cell_type": "code",
   "execution_count": 223,
   "metadata": {},
   "outputs": [
    {
     "data": {
      "text/plain": [
       "Index(['SEVERITYCODE', 'X', 'Y', 'OBJECTID', 'INCKEY', 'COLDETKEY', 'REPORTNO',\n",
       "       'STATUS', 'ADDRTYPE', 'INTKEY', 'LOCATION', 'EXCEPTRSNCODE',\n",
       "       'EXCEPTRSNDESC', 'SEVERITYCODE.1', 'SEVERITYDESC', 'COLLISIONTYPE',\n",
       "       'PERSONCOUNT', 'PEDCOUNT', 'PEDCYLCOUNT', 'VEHCOUNT', 'INCDATE',\n",
       "       'INCDTTM', 'JUNCTIONTYPE', 'SDOT_COLCODE', 'SDOT_COLDESC',\n",
       "       'INATTENTIONIND', 'UNDERINFL', 'WEATHER', 'ROADCOND', 'LIGHTCOND',\n",
       "       'PEDROWNOTGRNT', 'SDOTCOLNUM', 'SPEEDING', 'ST_COLCODE', 'ST_COLDESC',\n",
       "       'SEGLANEKEY', 'CROSSWALKKEY', 'HITPARKEDCAR'],\n",
       "      dtype='object')"
      ]
     },
     "execution_count": 223,
     "metadata": {},
     "output_type": "execute_result"
    }
   ],
   "source": [
    "df.columns"
   ]
  },
  {
   "cell_type": "markdown",
   "metadata": {},
   "source": [
    "### We drop the columns that have no description and do not contribute to any prediction for our target"
   ]
  },
  {
   "cell_type": "code",
   "execution_count": 224,
   "metadata": {},
   "outputs": [],
   "source": [
    "df.drop(columns = ['OBJECTID','INCKEY','COLDETKEY','X','Y','REPORTNO','STATUS','SDOTCOLNUM','LOCATION','EXCEPTRSNCODE','EXCEPTRSNDESC','SEVERITYCODE.1','SEVERITYDESC','INCDATE','INCDTTM','SDOT_COLDESC','ST_COLDESC','SEGLANEKEY','CROSSWALKKEY','SDOT_COLCODE','ST_COLCODE']\n",
    ",axis = 1,inplace = True)"
   ]
  },
  {
   "cell_type": "code",
   "execution_count": 225,
   "metadata": {},
   "outputs": [
    {
     "data": {
      "text/html": [
       "<div>\n",
       "<style scoped>\n",
       "    .dataframe tbody tr th:only-of-type {\n",
       "        vertical-align: middle;\n",
       "    }\n",
       "\n",
       "    .dataframe tbody tr th {\n",
       "        vertical-align: top;\n",
       "    }\n",
       "\n",
       "    .dataframe thead th {\n",
       "        text-align: right;\n",
       "    }\n",
       "</style>\n",
       "<table border=\"1\" class=\"dataframe\">\n",
       "  <thead>\n",
       "    <tr style=\"text-align: right;\">\n",
       "      <th></th>\n",
       "      <th>SEVERITYCODE</th>\n",
       "      <th>ADDRTYPE</th>\n",
       "      <th>INTKEY</th>\n",
       "      <th>COLLISIONTYPE</th>\n",
       "      <th>PERSONCOUNT</th>\n",
       "      <th>PEDCOUNT</th>\n",
       "      <th>PEDCYLCOUNT</th>\n",
       "      <th>VEHCOUNT</th>\n",
       "      <th>JUNCTIONTYPE</th>\n",
       "      <th>INATTENTIONIND</th>\n",
       "      <th>UNDERINFL</th>\n",
       "      <th>WEATHER</th>\n",
       "      <th>ROADCOND</th>\n",
       "      <th>LIGHTCOND</th>\n",
       "      <th>PEDROWNOTGRNT</th>\n",
       "      <th>SPEEDING</th>\n",
       "      <th>HITPARKEDCAR</th>\n",
       "    </tr>\n",
       "  </thead>\n",
       "  <tbody>\n",
       "    <tr>\n",
       "      <th>0</th>\n",
       "      <td>2</td>\n",
       "      <td>Intersection</td>\n",
       "      <td>37475.0</td>\n",
       "      <td>Angles</td>\n",
       "      <td>2</td>\n",
       "      <td>0</td>\n",
       "      <td>0</td>\n",
       "      <td>2</td>\n",
       "      <td>At Intersection (intersection related)</td>\n",
       "      <td>NaN</td>\n",
       "      <td>N</td>\n",
       "      <td>Overcast</td>\n",
       "      <td>Wet</td>\n",
       "      <td>Daylight</td>\n",
       "      <td>NaN</td>\n",
       "      <td>NaN</td>\n",
       "      <td>N</td>\n",
       "    </tr>\n",
       "    <tr>\n",
       "      <th>1</th>\n",
       "      <td>1</td>\n",
       "      <td>Block</td>\n",
       "      <td>NaN</td>\n",
       "      <td>Sideswipe</td>\n",
       "      <td>2</td>\n",
       "      <td>0</td>\n",
       "      <td>0</td>\n",
       "      <td>2</td>\n",
       "      <td>Mid-Block (not related to intersection)</td>\n",
       "      <td>NaN</td>\n",
       "      <td>0</td>\n",
       "      <td>Raining</td>\n",
       "      <td>Wet</td>\n",
       "      <td>Dark - Street Lights On</td>\n",
       "      <td>NaN</td>\n",
       "      <td>NaN</td>\n",
       "      <td>N</td>\n",
       "    </tr>\n",
       "    <tr>\n",
       "      <th>2</th>\n",
       "      <td>1</td>\n",
       "      <td>Block</td>\n",
       "      <td>NaN</td>\n",
       "      <td>Parked Car</td>\n",
       "      <td>4</td>\n",
       "      <td>0</td>\n",
       "      <td>0</td>\n",
       "      <td>3</td>\n",
       "      <td>Mid-Block (not related to intersection)</td>\n",
       "      <td>NaN</td>\n",
       "      <td>0</td>\n",
       "      <td>Overcast</td>\n",
       "      <td>Dry</td>\n",
       "      <td>Daylight</td>\n",
       "      <td>NaN</td>\n",
       "      <td>NaN</td>\n",
       "      <td>N</td>\n",
       "    </tr>\n",
       "    <tr>\n",
       "      <th>3</th>\n",
       "      <td>1</td>\n",
       "      <td>Block</td>\n",
       "      <td>NaN</td>\n",
       "      <td>Other</td>\n",
       "      <td>3</td>\n",
       "      <td>0</td>\n",
       "      <td>0</td>\n",
       "      <td>3</td>\n",
       "      <td>Mid-Block (not related to intersection)</td>\n",
       "      <td>NaN</td>\n",
       "      <td>N</td>\n",
       "      <td>Clear</td>\n",
       "      <td>Dry</td>\n",
       "      <td>Daylight</td>\n",
       "      <td>NaN</td>\n",
       "      <td>NaN</td>\n",
       "      <td>N</td>\n",
       "    </tr>\n",
       "    <tr>\n",
       "      <th>4</th>\n",
       "      <td>2</td>\n",
       "      <td>Intersection</td>\n",
       "      <td>34387.0</td>\n",
       "      <td>Angles</td>\n",
       "      <td>2</td>\n",
       "      <td>0</td>\n",
       "      <td>0</td>\n",
       "      <td>2</td>\n",
       "      <td>At Intersection (intersection related)</td>\n",
       "      <td>NaN</td>\n",
       "      <td>0</td>\n",
       "      <td>Raining</td>\n",
       "      <td>Wet</td>\n",
       "      <td>Daylight</td>\n",
       "      <td>NaN</td>\n",
       "      <td>NaN</td>\n",
       "      <td>N</td>\n",
       "    </tr>\n",
       "  </tbody>\n",
       "</table>\n",
       "</div>"
      ],
      "text/plain": [
       "   SEVERITYCODE      ADDRTYPE   INTKEY COLLISIONTYPE  PERSONCOUNT  PEDCOUNT  \\\n",
       "0             2  Intersection  37475.0        Angles            2         0   \n",
       "1             1         Block      NaN     Sideswipe            2         0   \n",
       "2             1         Block      NaN    Parked Car            4         0   \n",
       "3             1         Block      NaN         Other            3         0   \n",
       "4             2  Intersection  34387.0        Angles            2         0   \n",
       "\n",
       "   PEDCYLCOUNT  VEHCOUNT                             JUNCTIONTYPE  \\\n",
       "0            0         2   At Intersection (intersection related)   \n",
       "1            0         2  Mid-Block (not related to intersection)   \n",
       "2            0         3  Mid-Block (not related to intersection)   \n",
       "3            0         3  Mid-Block (not related to intersection)   \n",
       "4            0         2   At Intersection (intersection related)   \n",
       "\n",
       "  INATTENTIONIND UNDERINFL   WEATHER ROADCOND                LIGHTCOND  \\\n",
       "0            NaN         N  Overcast      Wet                 Daylight   \n",
       "1            NaN         0   Raining      Wet  Dark - Street Lights On   \n",
       "2            NaN         0  Overcast      Dry                 Daylight   \n",
       "3            NaN         N     Clear      Dry                 Daylight   \n",
       "4            NaN         0   Raining      Wet                 Daylight   \n",
       "\n",
       "  PEDROWNOTGRNT SPEEDING HITPARKEDCAR  \n",
       "0           NaN      NaN            N  \n",
       "1           NaN      NaN            N  \n",
       "2           NaN      NaN            N  \n",
       "3           NaN      NaN            N  \n",
       "4           NaN      NaN            N  "
      ]
     },
     "execution_count": 225,
     "metadata": {},
     "output_type": "execute_result"
    }
   ],
   "source": [
    "df.head()"
   ]
  },
  {
   "cell_type": "code",
   "execution_count": 226,
   "metadata": {},
   "outputs": [
    {
     "data": {
      "text/plain": [
       "SEVERITYCODE           0\n",
       "ADDRTYPE            1926\n",
       "INTKEY            129603\n",
       "COLLISIONTYPE       4904\n",
       "PERSONCOUNT            0\n",
       "PEDCOUNT               0\n",
       "PEDCYLCOUNT            0\n",
       "VEHCOUNT               0\n",
       "JUNCTIONTYPE        6329\n",
       "INATTENTIONIND    164868\n",
       "UNDERINFL           4884\n",
       "WEATHER             5081\n",
       "ROADCOND            5012\n",
       "LIGHTCOND           5170\n",
       "PEDROWNOTGRNT     190006\n",
       "SPEEDING          185340\n",
       "HITPARKEDCAR           0\n",
       "dtype: int64"
      ]
     },
     "execution_count": 226,
     "metadata": {},
     "output_type": "execute_result"
    }
   ],
   "source": [
    "df.isnull().sum()"
   ]
  },
  {
   "cell_type": "markdown",
   "metadata": {},
   "source": [
    "### 'SPEADING', 'PEDROWNOTGRNT','INTKEY' and 'INATTENTIONIND' have too many null values"
   ]
  },
  {
   "cell_type": "code",
   "execution_count": 227,
   "metadata": {},
   "outputs": [],
   "source": [
    "df.drop(columns = ['SPEEDING','PEDROWNOTGRNT','INTKEY','INATTENTIONIND'] ,axis = 1, inplace = True)"
   ]
  },
  {
   "cell_type": "code",
   "execution_count": 228,
   "metadata": {},
   "outputs": [
    {
     "data": {
      "text/html": [
       "<div>\n",
       "<style scoped>\n",
       "    .dataframe tbody tr th:only-of-type {\n",
       "        vertical-align: middle;\n",
       "    }\n",
       "\n",
       "    .dataframe tbody tr th {\n",
       "        vertical-align: top;\n",
       "    }\n",
       "\n",
       "    .dataframe thead th {\n",
       "        text-align: right;\n",
       "    }\n",
       "</style>\n",
       "<table border=\"1\" class=\"dataframe\">\n",
       "  <thead>\n",
       "    <tr style=\"text-align: right;\">\n",
       "      <th></th>\n",
       "      <th>SEVERITYCODE</th>\n",
       "      <th>ADDRTYPE</th>\n",
       "      <th>COLLISIONTYPE</th>\n",
       "      <th>PERSONCOUNT</th>\n",
       "      <th>PEDCOUNT</th>\n",
       "      <th>PEDCYLCOUNT</th>\n",
       "      <th>VEHCOUNT</th>\n",
       "      <th>JUNCTIONTYPE</th>\n",
       "      <th>UNDERINFL</th>\n",
       "      <th>WEATHER</th>\n",
       "      <th>ROADCOND</th>\n",
       "      <th>LIGHTCOND</th>\n",
       "      <th>HITPARKEDCAR</th>\n",
       "    </tr>\n",
       "  </thead>\n",
       "  <tbody>\n",
       "    <tr>\n",
       "      <th>0</th>\n",
       "      <td>2</td>\n",
       "      <td>Intersection</td>\n",
       "      <td>Angles</td>\n",
       "      <td>2</td>\n",
       "      <td>0</td>\n",
       "      <td>0</td>\n",
       "      <td>2</td>\n",
       "      <td>At Intersection (intersection related)</td>\n",
       "      <td>N</td>\n",
       "      <td>Overcast</td>\n",
       "      <td>Wet</td>\n",
       "      <td>Daylight</td>\n",
       "      <td>N</td>\n",
       "    </tr>\n",
       "    <tr>\n",
       "      <th>1</th>\n",
       "      <td>1</td>\n",
       "      <td>Block</td>\n",
       "      <td>Sideswipe</td>\n",
       "      <td>2</td>\n",
       "      <td>0</td>\n",
       "      <td>0</td>\n",
       "      <td>2</td>\n",
       "      <td>Mid-Block (not related to intersection)</td>\n",
       "      <td>0</td>\n",
       "      <td>Raining</td>\n",
       "      <td>Wet</td>\n",
       "      <td>Dark - Street Lights On</td>\n",
       "      <td>N</td>\n",
       "    </tr>\n",
       "    <tr>\n",
       "      <th>2</th>\n",
       "      <td>1</td>\n",
       "      <td>Block</td>\n",
       "      <td>Parked Car</td>\n",
       "      <td>4</td>\n",
       "      <td>0</td>\n",
       "      <td>0</td>\n",
       "      <td>3</td>\n",
       "      <td>Mid-Block (not related to intersection)</td>\n",
       "      <td>0</td>\n",
       "      <td>Overcast</td>\n",
       "      <td>Dry</td>\n",
       "      <td>Daylight</td>\n",
       "      <td>N</td>\n",
       "    </tr>\n",
       "    <tr>\n",
       "      <th>3</th>\n",
       "      <td>1</td>\n",
       "      <td>Block</td>\n",
       "      <td>Other</td>\n",
       "      <td>3</td>\n",
       "      <td>0</td>\n",
       "      <td>0</td>\n",
       "      <td>3</td>\n",
       "      <td>Mid-Block (not related to intersection)</td>\n",
       "      <td>N</td>\n",
       "      <td>Clear</td>\n",
       "      <td>Dry</td>\n",
       "      <td>Daylight</td>\n",
       "      <td>N</td>\n",
       "    </tr>\n",
       "    <tr>\n",
       "      <th>4</th>\n",
       "      <td>2</td>\n",
       "      <td>Intersection</td>\n",
       "      <td>Angles</td>\n",
       "      <td>2</td>\n",
       "      <td>0</td>\n",
       "      <td>0</td>\n",
       "      <td>2</td>\n",
       "      <td>At Intersection (intersection related)</td>\n",
       "      <td>0</td>\n",
       "      <td>Raining</td>\n",
       "      <td>Wet</td>\n",
       "      <td>Daylight</td>\n",
       "      <td>N</td>\n",
       "    </tr>\n",
       "  </tbody>\n",
       "</table>\n",
       "</div>"
      ],
      "text/plain": [
       "   SEVERITYCODE      ADDRTYPE COLLISIONTYPE  PERSONCOUNT  PEDCOUNT  \\\n",
       "0             2  Intersection        Angles            2         0   \n",
       "1             1         Block     Sideswipe            2         0   \n",
       "2             1         Block    Parked Car            4         0   \n",
       "3             1         Block         Other            3         0   \n",
       "4             2  Intersection        Angles            2         0   \n",
       "\n",
       "   PEDCYLCOUNT  VEHCOUNT                             JUNCTIONTYPE UNDERINFL  \\\n",
       "0            0         2   At Intersection (intersection related)         N   \n",
       "1            0         2  Mid-Block (not related to intersection)         0   \n",
       "2            0         3  Mid-Block (not related to intersection)         0   \n",
       "3            0         3  Mid-Block (not related to intersection)         N   \n",
       "4            0         2   At Intersection (intersection related)         0   \n",
       "\n",
       "    WEATHER ROADCOND                LIGHTCOND HITPARKEDCAR  \n",
       "0  Overcast      Wet                 Daylight            N  \n",
       "1   Raining      Wet  Dark - Street Lights On            N  \n",
       "2  Overcast      Dry                 Daylight            N  \n",
       "3     Clear      Dry                 Daylight            N  \n",
       "4   Raining      Wet                 Daylight            N  "
      ]
     },
     "execution_count": 228,
     "metadata": {},
     "output_type": "execute_result"
    }
   ],
   "source": [
    "df.head()"
   ]
  },
  {
   "cell_type": "markdown",
   "metadata": {},
   "source": [
    "## Columns left = 13"
   ]
  },
  {
   "cell_type": "code",
   "execution_count": 229,
   "metadata": {},
   "outputs": [
    {
     "data": {
      "text/plain": [
       "SEVERITYCODE      int64\n",
       "ADDRTYPE         object\n",
       "COLLISIONTYPE    object\n",
       "PERSONCOUNT       int64\n",
       "PEDCOUNT          int64\n",
       "PEDCYLCOUNT       int64\n",
       "VEHCOUNT          int64\n",
       "JUNCTIONTYPE     object\n",
       "UNDERINFL        object\n",
       "WEATHER          object\n",
       "ROADCOND         object\n",
       "LIGHTCOND        object\n",
       "HITPARKEDCAR     object\n",
       "dtype: object"
      ]
     },
     "execution_count": 229,
     "metadata": {},
     "output_type": "execute_result"
    }
   ],
   "source": [
    "df.dtypes\n",
    "# Data types of our variables"
   ]
  },
  {
   "cell_type": "markdown",
   "metadata": {},
   "source": [
    "## Exploratory Data Analysis\n",
    "#### We wil compare:  Vs SeverityCode"
   ]
  },
  {
   "cell_type": "code",
   "execution_count": 230,
   "metadata": {},
   "outputs": [
    {
     "data": {
      "text/plain": [
       "<matplotlib.axes._subplots.AxesSubplot at 0xb348a5588>"
      ]
     },
     "execution_count": 230,
     "metadata": {},
     "output_type": "execute_result"
    },
    {
     "data": {
      "image/png": "[encoded data removed]",
      "text/plain": [
       "<Figure size 1080x504 with 1 Axes>"
      ]
     },
     "metadata": {
      "needs_background": "light"
     },
     "output_type": "display_data"
    }
   ],
   "source": [
    "plt.figure (figsize = (15,7))\n",
    "df.groupby(\"COLLISIONTYPE\") [\"SEVERITYCODE\"].value_counts().plot(kind='barh')"
   ]
  },
  {
   "cell_type": "code",
   "execution_count": 231,
   "metadata": {},
   "outputs": [
    {
     "data": {
      "text/plain": [
       "<matplotlib.axes._subplots.AxesSubplot at 0xb1469cb08>"
      ]
     },
     "execution_count": 231,
     "metadata": {},
     "output_type": "execute_result"
    },
    {
     "data": {
      "image/png": "[encoded data removed]",
      "text/plain": [
       "<Figure size 1080x504 with 1 Axes>"
      ]
     },
     "metadata": {
      "needs_background": "light"
     },
     "output_type": "display_data"
    }
   ],
   "source": [
    "plt.figure (figsize = (15,7))\n",
    "df.groupby(\"ADDRTYPE\") [\"SEVERITYCODE\"].value_counts().plot(kind='barh')"
   ]
  },
  {
   "cell_type": "code",
   "execution_count": 232,
   "metadata": {},
   "outputs": [
    {
     "data": {
      "text/plain": [
       "<matplotlib.axes._subplots.AxesSubplot at 0xb14707588>"
      ]
     },
     "execution_count": 232,
     "metadata": {},
     "output_type": "execute_result"
    },
    {
     "data": {
      "image/png": "[encoded data removed]",
      "text/plain": [
       "<Figure size 1080x432 with 1 Axes>"
      ]
     },
     "metadata": {
      "needs_background": "light"
     },
     "output_type": "display_data"
    }
   ],
   "source": [
    "plt.figure (figsize = (15,6))\n",
    "sns.boxplot (x = \"SEVERITYCODE\", y = \"VEHCOUNT\" ,data = df)"
   ]
  },
  {
   "cell_type": "code",
   "execution_count": 233,
   "metadata": {},
   "outputs": [
    {
     "data": {
      "text/plain": [
       "<matplotlib.axes._subplots.AxesSubplot at 0xb3355b9c8>"
      ]
     },
     "execution_count": 233,
     "metadata": {},
     "output_type": "execute_result"
    },
    {
     "data": {
      "image/png": "[encoded data removed]",
      "text/plain": [
       "<Figure size 432x288 with 1 Axes>"
      ]
     },
     "metadata": {
      "needs_background": "light"
     },
     "output_type": "display_data"
    }
   ],
   "source": [
    "sns.boxplot (x = \"SEVERITYCODE\", y = \"PERSONCOUNT\" ,data = df)"
   ]
  },
  {
   "cell_type": "code",
   "execution_count": 234,
   "metadata": {},
   "outputs": [
    {
     "data": {
      "text/plain": [
       "<matplotlib.axes._subplots.AxesSubplot at 0xb335d2648>"
      ]
     },
     "execution_count": 234,
     "metadata": {},
     "output_type": "execute_result"
    },
    {
     "data": {
      "image/png": "[encoded data removed]",
      "text/plain": [
       "<Figure size 432x288 with 1 Axes>"
      ]
     },
     "metadata": {
      "needs_background": "light"
     },
     "output_type": "display_data"
    }
   ],
   "source": [
    "sns.boxplot (x = \"SEVERITYCODE\", y = \"PEDCOUNT\" ,data = df)"
   ]
  },
  {
   "cell_type": "code",
   "execution_count": 235,
   "metadata": {},
   "outputs": [
    {
     "data": {
      "text/plain": [
       "<matplotlib.axes._subplots.AxesSubplot at 0xb34d2e7c8>"
      ]
     },
     "execution_count": 235,
     "metadata": {},
     "output_type": "execute_result"
    },
    {
     "data": {
      "image/png": "[encoded data removed]",
      "text/plain": [
       "<Figure size 432x288 with 1 Axes>"
      ]
     },
     "metadata": {
      "needs_background": "light"
     },
     "output_type": "display_data"
    }
   ],
   "source": [
    "sns.boxplot (x = \"SEVERITYCODE\", y = \"PEDCYLCOUNT\" ,data = df)"
   ]
  },
  {
   "cell_type": "code",
   "execution_count": 236,
   "metadata": {},
   "outputs": [
    {
     "data": {
      "image/png": "[encoded data removed]",
      "text/plain": [
       "<Figure size 864x432 with 1 Axes>"
      ]
     },
     "metadata": {
      "needs_background": "light"
     },
     "output_type": "display_data"
    }
   ],
   "source": [
    "plt.figure(figsize = (12,6))\n",
    "df.groupby(\"JUNCTIONTYPE\")[\"SEVERITYCODE\"].value_counts().plot(kind='barh');"
   ]
  },
  {
   "cell_type": "code",
   "execution_count": 237,
   "metadata": {},
   "outputs": [
    {
     "data": {
      "text/plain": [
       "<matplotlib.axes._subplots.AxesSubplot at 0xb34b75408>"
      ]
     },
     "execution_count": 237,
     "metadata": {},
     "output_type": "execute_result"
    },
    {
     "data": {
      "image/png": "[encoded data removed]",
      "text/plain": [
       "<Figure size 864x432 with 1 Axes>"
      ]
     },
     "metadata": {
      "needs_background": "light"
     },
     "output_type": "display_data"
    }
   ],
   "source": [
    "plt.figure(figsize = (12,6))\n",
    "df.groupby(\"HITPARKEDCAR\")[\"SEVERITYCODE\"].value_counts().plot(kind='bar')"
   ]
  },
  {
   "cell_type": "code",
   "execution_count": 238,
   "metadata": {},
   "outputs": [
    {
     "data": {
      "text/plain": [
       "<matplotlib.axes._subplots.AxesSubplot at 0xb34bdd988>"
      ]
     },
     "execution_count": 238,
     "metadata": {},
     "output_type": "execute_result"
    },
    {
     "data": {
      "image/png": "[encoded data removed]",
      "text/plain": [
       "<Figure size 864x432 with 1 Axes>"
      ]
     },
     "metadata": {
      "needs_background": "light"
     },
     "output_type": "display_data"
    }
   ],
   "source": [
    "plt.figure(figsize = (12,6))\n",
    "df.groupby(\"SEVERITYCODE\")[\"ROADCOND\"].value_counts().plot(kind='barh')"
   ]
  },
  {
   "cell_type": "code",
   "execution_count": 239,
   "metadata": {},
   "outputs": [
    {
     "data": {
      "text/plain": [
       "<matplotlib.axes._subplots.AxesSubplot at 0xb34d80088>"
      ]
     },
     "execution_count": 239,
     "metadata": {},
     "output_type": "execute_result"
    },
    {
     "data": {
      "image/png": "[encoded data removed]",
      "text/plain": [
       "<Figure size 864x432 with 1 Axes>"
      ]
     },
     "metadata": {
      "needs_background": "light"
     },
     "output_type": "display_data"
    }
   ],
   "source": [
    "plt.figure(figsize = (12,6))\n",
    "df.groupby(\"LIGHTCOND\")[\"SEVERITYCODE\"].value_counts().plot(kind='barh')"
   ]
  },
  {
   "cell_type": "markdown",
   "metadata": {},
   "source": [
    "### Drop PersonCount, PedCount and PedCylCount because they have no correlation"
   ]
  },
  {
   "cell_type": "code",
   "execution_count": 240,
   "metadata": {},
   "outputs": [],
   "source": [
    "df.drop(columns = ['PERSONCOUNT','PEDCOUNT','PEDCYLCOUNT'],axis = 1,inplace = True)"
   ]
  },
  {
   "cell_type": "code",
   "execution_count": 241,
   "metadata": {},
   "outputs": [
    {
     "data": {
      "text/plain": [
       "(194673, 10)"
      ]
     },
     "execution_count": 241,
     "metadata": {},
     "output_type": "execute_result"
    }
   ],
   "source": [
    "df.shape"
   ]
  },
  {
   "cell_type": "code",
   "execution_count": 242,
   "metadata": {},
   "outputs": [],
   "source": [
    "df.dropna(inplace= True)"
   ]
  },
  {
   "cell_type": "code",
   "execution_count": 243,
   "metadata": {},
   "outputs": [
    {
     "data": {
      "text/plain": [
       "SEVERITYCODE     0\n",
       "ADDRTYPE         0\n",
       "COLLISIONTYPE    0\n",
       "VEHCOUNT         0\n",
       "JUNCTIONTYPE     0\n",
       "UNDERINFL        0\n",
       "WEATHER          0\n",
       "ROADCOND         0\n",
       "LIGHTCOND        0\n",
       "HITPARKEDCAR     0\n",
       "dtype: int64"
      ]
     },
     "execution_count": 243,
     "metadata": {},
     "output_type": "execute_result"
    }
   ],
   "source": [
    "df.isnull().sum()"
   ]
  },
  {
   "cell_type": "code",
   "execution_count": 244,
   "metadata": {},
   "outputs": [
    {
     "data": {
      "text/plain": [
       "<matplotlib.axes._subplots.AxesSubplot at 0xb398b7d88>"
      ]
     },
     "execution_count": 244,
     "metadata": {},
     "output_type": "execute_result"
    },
    {
     "data": {
      "image/png": "[encoded data removed]",
      "text/plain": [
       "<Figure size 432x288 with 1 Axes>"
      ]
     },
     "metadata": {
      "needs_background": "light"
     },
     "output_type": "display_data"
    }
   ],
   "source": [
    "sns.countplot(df[\"SEVERITYCODE\"])\n",
    "# Here we se the data set imbalance"
   ]
  },
  {
   "cell_type": "code",
   "execution_count": 245,
   "metadata": {},
   "outputs": [
    {
     "data": {
      "text/plain": [
       "2    56625\n",
       "1    56625\n",
       "Name: SEVERITYCODE, dtype: int64"
      ]
     },
     "execution_count": 245,
     "metadata": {},
     "output_type": "execute_result"
    }
   ],
   "source": [
    "from sklearn.utils import resample\n",
    "df_sevcod1 = df[df.SEVERITYCODE==1]\n",
    "df_sevcod2 = df[df.SEVERITYCODE==2]\n",
    "\n",
    "# downsamp sample major class\n",
    "df_sev_downsamp = resample(df_sevcod1,replace = True, n_samples=56625,random_state=123)\n",
    "#                                  sample replacement   match minority class   reproducible results\n",
    "df = pd.concat([df_sev_downsamp,df_sevcod2])\n",
    "# display new class counts\n",
    "df[\"SEVERITYCODE\"].value_counts()"
   ]
  },
  {
   "cell_type": "code",
   "execution_count": 246,
   "metadata": {},
   "outputs": [
    {
     "data": {
      "text/plain": [
       "<matplotlib.axes._subplots.AxesSubplot at 0xb333c9408>"
      ]
     },
     "execution_count": 246,
     "metadata": {},
     "output_type": "execute_result"
    },
    {
     "data": {
      "image/png": "[encoded data removed]",
      "text/plain": [
       "<Figure size 432x288 with 1 Axes>"
      ]
     },
     "metadata": {
      "needs_background": "light"
     },
     "output_type": "display_data"
    }
   ],
   "source": [
    "sns.countplot(df[\"SEVERITYCODE\"])"
   ]
  },
  {
   "cell_type": "markdown",
   "metadata": {},
   "source": [
    "  ### Check categorical values individually so as to know what data convert to continuous data"
   ]
  },
  {
   "cell_type": "code",
   "execution_count": 247,
   "metadata": {},
   "outputs": [
    {
     "data": {
      "text/plain": [
       "array(['Block', 'Intersection', 'Alley'], dtype=object)"
      ]
     },
     "execution_count": 247,
     "metadata": {},
     "output_type": "execute_result"
    }
   ],
   "source": [
    "df[\"ADDRTYPE\"].unique()"
   ]
  },
  {
   "cell_type": "code",
   "execution_count": 248,
   "metadata": {},
   "outputs": [
    {
     "data": {
      "text/plain": [
       "array(['Sideswipe', 'Right Turn', 'Parked Car', 'Rear Ended', 'Angles',\n",
       "       'Other', 'Left Turn', 'Head On', 'Cycles', 'Pedestrian'],\n",
       "      dtype=object)"
      ]
     },
     "execution_count": 248,
     "metadata": {},
     "output_type": "execute_result"
    }
   ],
   "source": [
    "df[\"COLLISIONTYPE\"].unique()"
   ]
  },
  {
   "cell_type": "code",
   "execution_count": 249,
   "metadata": {},
   "outputs": [
    {
     "data": {
      "text/plain": [
       "array(['Mid-Block (not related to intersection)',\n",
       "       'At Intersection (intersection related)',\n",
       "       'Mid-Block (but intersection related)', 'Driveway Junction',\n",
       "       'At Intersection (but not related to intersection)',\n",
       "       'Ramp Junction', 'Unknown'], dtype=object)"
      ]
     },
     "execution_count": 249,
     "metadata": {},
     "output_type": "execute_result"
    }
   ],
   "source": [
    "df[\"JUNCTIONTYPE\"].unique()"
   ]
  },
  {
   "cell_type": "code",
   "execution_count": 250,
   "metadata": {},
   "outputs": [
    {
     "data": {
      "text/plain": [
       "array(['N', '0', 'Y', '1'], dtype=object)"
      ]
     },
     "execution_count": 250,
     "metadata": {},
     "output_type": "execute_result"
    }
   ],
   "source": [
    "df[\"UNDERINFL\"].unique()"
   ]
  },
  {
   "cell_type": "code",
   "execution_count": 251,
   "metadata": {},
   "outputs": [
    {
     "data": {
      "text/plain": [
       "array(['Raining', 'Clear', 'Overcast', 'Unknown', 'Snowing',\n",
       "       'Fog/Smog/Smoke', 'Other', 'Sleet/Hail/Freezing Rain',\n",
       "       'Severe Crosswind', 'Blowing Sand/Dirt', 'Partly Cloudy'],\n",
       "      dtype=object)"
      ]
     },
     "execution_count": 251,
     "metadata": {},
     "output_type": "execute_result"
    }
   ],
   "source": [
    "df[\"WEATHER\"].unique()"
   ]
  },
  {
   "cell_type": "code",
   "execution_count": 252,
   "metadata": {},
   "outputs": [
    {
     "data": {
      "text/plain": [
       "array(['N', 'Y'], dtype=object)"
      ]
     },
     "execution_count": 252,
     "metadata": {},
     "output_type": "execute_result"
    }
   ],
   "source": [
    "df[\"HITPARKEDCAR\"].unique()"
   ]
  },
  {
   "cell_type": "code",
   "execution_count": 253,
   "metadata": {},
   "outputs": [
    {
     "data": {
      "text/plain": [
       "array(['Wet', 'Dry', 'Unknown', 'Ice', 'Snow/Slush', 'Other',\n",
       "       'Standing Water', 'Sand/Mud/Dirt', 'Oil'], dtype=object)"
      ]
     },
     "execution_count": 253,
     "metadata": {},
     "output_type": "execute_result"
    }
   ],
   "source": [
    "df[\"ROADCOND\"].unique()"
   ]
  },
  {
   "cell_type": "code",
   "execution_count": 254,
   "metadata": {},
   "outputs": [
    {
     "data": {
      "text/plain": [
       "array(['Dusk', 'Daylight', 'Unknown', 'Dark - Street Lights On',\n",
       "       'Dark - No Street Lights', 'Dawn', 'Dark - Street Lights Off',\n",
       "       'Other', 'Dark - Unknown Lighting'], dtype=object)"
      ]
     },
     "execution_count": 254,
     "metadata": {},
     "output_type": "execute_result"
    }
   ],
   "source": [
    "df[\"LIGHTCOND\"].unique()"
   ]
  },
  {
   "cell_type": "markdown",
   "metadata": {},
   "source": [
    "#### In the influence of alcohol we will replace N with 1 an Y with 0"
   ]
  },
  {
   "cell_type": "code",
   "execution_count": 255,
   "metadata": {},
   "outputs": [],
   "source": [
    "df[\"UNDERINFL\"].replace('0','N',inplace= True)\n",
    "df[\"UNDERINFL\"].replace('1','Y',inplace= True)"
   ]
  },
  {
   "cell_type": "code",
   "execution_count": 256,
   "metadata": {},
   "outputs": [
    {
     "data": {
      "text/plain": [
       "array(['N', 'Y'], dtype=object)"
      ]
     },
     "execution_count": 256,
     "metadata": {},
     "output_type": "execute_result"
    }
   ],
   "source": [
    "df[\"UNDERINFL\"].unique()"
   ]
  },
  {
   "cell_type": "markdown",
   "metadata": {},
   "source": [
    "### Now we will convert categorical data to continuous data"
   ]
  },
  {
   "cell_type": "code",
   "execution_count": 257,
   "metadata": {},
   "outputs": [
    {
     "data": {
      "text/html": [
       "<div>\n",
       "<style scoped>\n",
       "    .dataframe tbody tr th:only-of-type {\n",
       "        vertical-align: middle;\n",
       "    }\n",
       "\n",
       "    .dataframe tbody tr th {\n",
       "        vertical-align: top;\n",
       "    }\n",
       "\n",
       "    .dataframe thead th {\n",
       "        text-align: right;\n",
       "    }\n",
       "</style>\n",
       "<table border=\"1\" class=\"dataframe\">\n",
       "  <thead>\n",
       "    <tr style=\"text-align: right;\">\n",
       "      <th></th>\n",
       "      <th>SEVERITYCODE</th>\n",
       "      <th>VEHCOUNT</th>\n",
       "      <th>UNDERINFL_N</th>\n",
       "      <th>UNDERINFL_Y</th>\n",
       "      <th>LIGHTCOND_Dark - No Street Lights</th>\n",
       "      <th>LIGHTCOND_Dark - Street Lights Off</th>\n",
       "      <th>LIGHTCOND_Dark - Street Lights On</th>\n",
       "      <th>LIGHTCOND_Dark - Unknown Lighting</th>\n",
       "      <th>LIGHTCOND_Dawn</th>\n",
       "      <th>LIGHTCOND_Daylight</th>\n",
       "      <th>...</th>\n",
       "      <th>COLLISIONTYPE_Angles</th>\n",
       "      <th>COLLISIONTYPE_Cycles</th>\n",
       "      <th>COLLISIONTYPE_Head On</th>\n",
       "      <th>COLLISIONTYPE_Left Turn</th>\n",
       "      <th>COLLISIONTYPE_Other</th>\n",
       "      <th>COLLISIONTYPE_Parked Car</th>\n",
       "      <th>COLLISIONTYPE_Pedestrian</th>\n",
       "      <th>COLLISIONTYPE_Rear Ended</th>\n",
       "      <th>COLLISIONTYPE_Right Turn</th>\n",
       "      <th>COLLISIONTYPE_Sideswipe</th>\n",
       "    </tr>\n",
       "  </thead>\n",
       "  <tbody>\n",
       "    <tr>\n",
       "      <th>180975</th>\n",
       "      <td>1</td>\n",
       "      <td>1</td>\n",
       "      <td>1</td>\n",
       "      <td>0</td>\n",
       "      <td>0</td>\n",
       "      <td>0</td>\n",
       "      <td>0</td>\n",
       "      <td>0</td>\n",
       "      <td>0</td>\n",
       "      <td>0</td>\n",
       "      <td>...</td>\n",
       "      <td>0</td>\n",
       "      <td>0</td>\n",
       "      <td>0</td>\n",
       "      <td>0</td>\n",
       "      <td>0</td>\n",
       "      <td>0</td>\n",
       "      <td>0</td>\n",
       "      <td>0</td>\n",
       "      <td>0</td>\n",
       "      <td>1</td>\n",
       "    </tr>\n",
       "    <tr>\n",
       "      <th>22948</th>\n",
       "      <td>1</td>\n",
       "      <td>2</td>\n",
       "      <td>1</td>\n",
       "      <td>0</td>\n",
       "      <td>0</td>\n",
       "      <td>0</td>\n",
       "      <td>0</td>\n",
       "      <td>0</td>\n",
       "      <td>0</td>\n",
       "      <td>1</td>\n",
       "      <td>...</td>\n",
       "      <td>0</td>\n",
       "      <td>0</td>\n",
       "      <td>0</td>\n",
       "      <td>0</td>\n",
       "      <td>0</td>\n",
       "      <td>0</td>\n",
       "      <td>0</td>\n",
       "      <td>0</td>\n",
       "      <td>1</td>\n",
       "      <td>0</td>\n",
       "    </tr>\n",
       "    <tr>\n",
       "      <th>40362</th>\n",
       "      <td>1</td>\n",
       "      <td>2</td>\n",
       "      <td>1</td>\n",
       "      <td>0</td>\n",
       "      <td>0</td>\n",
       "      <td>0</td>\n",
       "      <td>0</td>\n",
       "      <td>0</td>\n",
       "      <td>0</td>\n",
       "      <td>1</td>\n",
       "      <td>...</td>\n",
       "      <td>0</td>\n",
       "      <td>0</td>\n",
       "      <td>0</td>\n",
       "      <td>0</td>\n",
       "      <td>0</td>\n",
       "      <td>1</td>\n",
       "      <td>0</td>\n",
       "      <td>0</td>\n",
       "      <td>0</td>\n",
       "      <td>0</td>\n",
       "    </tr>\n",
       "    <tr>\n",
       "      <th>25786</th>\n",
       "      <td>1</td>\n",
       "      <td>2</td>\n",
       "      <td>1</td>\n",
       "      <td>0</td>\n",
       "      <td>0</td>\n",
       "      <td>0</td>\n",
       "      <td>0</td>\n",
       "      <td>0</td>\n",
       "      <td>0</td>\n",
       "      <td>1</td>\n",
       "      <td>...</td>\n",
       "      <td>0</td>\n",
       "      <td>0</td>\n",
       "      <td>0</td>\n",
       "      <td>0</td>\n",
       "      <td>0</td>\n",
       "      <td>0</td>\n",
       "      <td>0</td>\n",
       "      <td>1</td>\n",
       "      <td>0</td>\n",
       "      <td>0</td>\n",
       "    </tr>\n",
       "    <tr>\n",
       "      <th>88320</th>\n",
       "      <td>1</td>\n",
       "      <td>2</td>\n",
       "      <td>1</td>\n",
       "      <td>0</td>\n",
       "      <td>0</td>\n",
       "      <td>0</td>\n",
       "      <td>0</td>\n",
       "      <td>0</td>\n",
       "      <td>0</td>\n",
       "      <td>0</td>\n",
       "      <td>...</td>\n",
       "      <td>0</td>\n",
       "      <td>0</td>\n",
       "      <td>0</td>\n",
       "      <td>0</td>\n",
       "      <td>0</td>\n",
       "      <td>1</td>\n",
       "      <td>0</td>\n",
       "      <td>0</td>\n",
       "      <td>0</td>\n",
       "      <td>0</td>\n",
       "    </tr>\n",
       "  </tbody>\n",
       "</table>\n",
       "<p>5 rows × 55 columns</p>\n",
       "</div>"
      ],
      "text/plain": [
       "        SEVERITYCODE  VEHCOUNT  UNDERINFL_N  UNDERINFL_Y  \\\n",
       "180975             1         1            1            0   \n",
       "22948              1         2            1            0   \n",
       "40362              1         2            1            0   \n",
       "25786              1         2            1            0   \n",
       "88320              1         2            1            0   \n",
       "\n",
       "        LIGHTCOND_Dark - No Street Lights  LIGHTCOND_Dark - Street Lights Off  \\\n",
       "180975                                  0                                   0   \n",
       "22948                                   0                                   0   \n",
       "40362                                   0                                   0   \n",
       "25786                                   0                                   0   \n",
       "88320                                   0                                   0   \n",
       "\n",
       "        LIGHTCOND_Dark - Street Lights On  LIGHTCOND_Dark - Unknown Lighting  \\\n",
       "180975                                  0                                  0   \n",
       "22948                                   0                                  0   \n",
       "40362                                   0                                  0   \n",
       "25786                                   0                                  0   \n",
       "88320                                   0                                  0   \n",
       "\n",
       "        LIGHTCOND_Dawn  LIGHTCOND_Daylight  ...  COLLISIONTYPE_Angles  \\\n",
       "180975               0                   0  ...                     0   \n",
       "22948                0                   1  ...                     0   \n",
       "40362                0                   1  ...                     0   \n",
       "25786                0                   1  ...                     0   \n",
       "88320                0                   0  ...                     0   \n",
       "\n",
       "        COLLISIONTYPE_Cycles  COLLISIONTYPE_Head On  COLLISIONTYPE_Left Turn  \\\n",
       "180975                     0                      0                        0   \n",
       "22948                      0                      0                        0   \n",
       "40362                      0                      0                        0   \n",
       "25786                      0                      0                        0   \n",
       "88320                      0                      0                        0   \n",
       "\n",
       "        COLLISIONTYPE_Other  COLLISIONTYPE_Parked Car  \\\n",
       "180975                    0                         0   \n",
       "22948                     0                         0   \n",
       "40362                     0                         1   \n",
       "25786                     0                         0   \n",
       "88320                     0                         1   \n",
       "\n",
       "        COLLISIONTYPE_Pedestrian  COLLISIONTYPE_Rear Ended  \\\n",
       "180975                         0                         0   \n",
       "22948                          0                         0   \n",
       "40362                          0                         0   \n",
       "25786                          0                         1   \n",
       "88320                          0                         0   \n",
       "\n",
       "        COLLISIONTYPE_Right Turn  COLLISIONTYPE_Sideswipe  \n",
       "180975                         0                        1  \n",
       "22948                          1                        0  \n",
       "40362                          0                        0  \n",
       "25786                          0                        0  \n",
       "88320                          0                        0  \n",
       "\n",
       "[5 rows x 55 columns]"
      ]
     },
     "execution_count": 257,
     "metadata": {},
     "output_type": "execute_result"
    }
   ],
   "source": [
    "df = pd.get_dummies(df,columns = [\"UNDERINFL\",\"LIGHTCOND\",\"HITPARKEDCAR\",\"WEATHER\",\"JUNCTIONTYPE\",\"ADDRTYPE\",\"ROADCOND\",\"COLLISIONTYPE\"])\n",
    "df.head()"
   ]
  },
  {
   "cell_type": "markdown",
   "metadata": {},
   "source": [
    "#### Model"
   ]
  },
  {
   "cell_type": "code",
   "execution_count": 258,
   "metadata": {},
   "outputs": [],
   "source": [
    "from sklearn import preprocessing\n",
    "from sklearn import metrics\n",
    "from sklearn.metrics import classification_report,confusion_matrix,f1_score\n",
    "from sklearn.model_selection import train_test_split"
   ]
  },
  {
   "cell_type": "code",
   "execution_count": 259,
   "metadata": {},
   "outputs": [
    {
     "data": {
      "text/plain": [
       "array([[1, 1, 0, 0, 0, 0, 0, 0, 0, 1, 0, 0, 1, 0, 0, 0, 0, 0, 0, 0, 1, 0,\n",
       "        0, 0, 0, 0, 0, 0, 0, 1, 0, 0, 0, 1, 0, 0, 0, 0, 0, 0, 0, 0, 0, 1,\n",
       "        0, 0, 0, 0, 0, 0, 0, 0, 0, 1],\n",
       "       [2, 1, 0, 0, 0, 0, 0, 0, 1, 0, 0, 0, 1, 0, 0, 0, 0, 0, 0, 0, 1, 0,\n",
       "        0, 0, 0, 0, 1, 0, 0, 0, 0, 0, 0, 0, 1, 0, 0, 0, 0, 0, 0, 0, 0, 1,\n",
       "        0, 0, 0, 0, 0, 0, 0, 0, 1, 0],\n",
       "       [2, 1, 0, 0, 0, 0, 0, 0, 1, 0, 0, 0, 1, 0, 0, 0, 0, 0, 0, 0, 1, 0,\n",
       "        0, 0, 0, 0, 0, 0, 0, 1, 0, 0, 0, 1, 0, 0, 0, 0, 0, 0, 0, 0, 0, 1,\n",
       "        0, 0, 0, 0, 0, 1, 0, 0, 0, 0],\n",
       "       [2, 1, 0, 0, 0, 0, 0, 0, 1, 0, 0, 0, 1, 0, 0, 1, 0, 0, 0, 0, 0, 0,\n",
       "        0, 0, 0, 0, 0, 0, 1, 0, 0, 0, 0, 1, 0, 1, 0, 0, 0, 0, 0, 0, 0, 0,\n",
       "        0, 0, 0, 0, 0, 0, 0, 1, 0, 0],\n",
       "       [2, 1, 0, 0, 0, 0, 0, 0, 0, 1, 0, 0, 1, 0, 0, 0, 0, 0, 1, 0, 0, 0,\n",
       "        0, 0, 0, 0, 0, 0, 0, 1, 0, 0, 0, 1, 0, 0, 0, 0, 0, 0, 0, 0, 0, 1,\n",
       "        0, 0, 0, 0, 0, 1, 0, 0, 0, 0]], dtype=int64)"
      ]
     },
     "execution_count": 259,
     "metadata": {},
     "output_type": "execute_result"
    }
   ],
   "source": [
    "X = df.drop('SEVERITYCODE',axis=1).values\n",
    "X[0:5]"
   ]
  },
  {
   "cell_type": "code",
   "execution_count": 260,
   "metadata": {},
   "outputs": [
    {
     "data": {
      "text/plain": [
       "(113250, 54)"
      ]
     },
     "execution_count": 260,
     "metadata": {},
     "output_type": "execute_result"
    }
   ],
   "source": [
    "X.shape"
   ]
  },
  {
   "cell_type": "code",
   "execution_count": 261,
   "metadata": {},
   "outputs": [
    {
     "data": {
      "text/plain": [
       "array([1, 1, 1, 1, 1], dtype=int64)"
      ]
     },
     "execution_count": 261,
     "metadata": {},
     "output_type": "execute_result"
    }
   ],
   "source": [
    "Y = df[\"SEVERITYCODE\"].values\n",
    "Y[0:5]"
   ]
  },
  {
   "cell_type": "code",
   "execution_count": 262,
   "metadata": {},
   "outputs": [
    {
     "data": {
      "text/plain": [
       "(113250,)"
      ]
     },
     "execution_count": 262,
     "metadata": {},
     "output_type": "execute_result"
    }
   ],
   "source": [
    "Y.shape"
   ]
  },
  {
   "cell_type": "code",
   "execution_count": 263,
   "metadata": {},
   "outputs": [
    {
     "data": {
      "text/plain": [
       "array([[-1.56529976e+00,  2.32311829e-01, -2.32311829e-01,\n",
       "        -8.38136021e-02, -7.78941434e-02, -5.88206594e-01,\n",
       "        -6.64470163e-03, -1.17566990e-01, -1.32702034e+00,\n",
       "         5.46581525e+00, -3.33739719e-02, -2.16955276e-01,\n",
       "         1.57196321e-01, -1.57196321e-01, -1.42524300e-02,\n",
       "        -1.24093556e+00, -5.47127193e-02, -5.90108709e-02,\n",
       "        -4.17834171e-01, -5.14691830e-03,  2.11316583e+00,\n",
       "        -1.15094690e-02, -2.45112678e-02, -6.65257948e-02,\n",
       "        -2.30107917e-01, -1.06240883e-01, -7.71480887e-01,\n",
       "        -2.46396174e-01, -3.73845253e-01,  1.13966614e+00,\n",
       "        -2.85135494e-02, -7.27893807e-03, -3.27043642e-02,\n",
       "         7.92093668e-01, -7.90308533e-01, -1.44853060e+00,\n",
       "        -7.80088001e-02, -1.90305549e-02, -2.64208003e-02,\n",
       "        -1.92613218e-02, -7.00497175e-02, -2.50464540e-02,\n",
       "        -2.28294047e-01,  1.68601017e+00, -5.02661405e-01,\n",
       "        -2.14579654e-01, -1.10658315e-01, -2.97880741e-01,\n",
       "        -3.66381468e-01, -4.75611940e-01, -2.39301110e-01,\n",
       "        -5.07329588e-01, -1.24221432e-01,  3.30660163e+00],\n",
       "       [ 7.39205115e-02,  2.32311829e-01, -2.32311829e-01,\n",
       "        -8.38136021e-02, -7.78941434e-02, -5.88206594e-01,\n",
       "        -6.64470163e-03, -1.17566990e-01,  7.53567952e-01,\n",
       "        -1.82955324e-01, -3.33739719e-02, -2.16955276e-01,\n",
       "         1.57196321e-01, -1.57196321e-01, -1.42524300e-02,\n",
       "        -1.24093556e+00, -5.47127193e-02, -5.90108709e-02,\n",
       "        -4.17834171e-01, -5.14691830e-03,  2.11316583e+00,\n",
       "        -1.15094690e-02, -2.45112678e-02, -6.65257948e-02,\n",
       "        -2.30107917e-01, -1.06240883e-01,  1.29620839e+00,\n",
       "        -2.46396174e-01, -3.73845253e-01, -8.77449953e-01,\n",
       "        -2.85135494e-02, -7.27893807e-03, -3.27043642e-02,\n",
       "        -1.26247695e+00,  1.26532861e+00, -1.44853060e+00,\n",
       "        -7.80088001e-02, -1.90305549e-02, -2.64208003e-02,\n",
       "        -1.92613218e-02, -7.00497175e-02, -2.50464540e-02,\n",
       "        -2.28294047e-01,  1.68601017e+00, -5.02661405e-01,\n",
       "        -2.14579654e-01, -1.10658315e-01, -2.97880741e-01,\n",
       "        -3.66381468e-01, -4.75611940e-01, -2.39301110e-01,\n",
       "        -5.07329588e-01,  8.05014066e+00, -3.02425303e-01],\n",
       "       [ 7.39205115e-02,  2.32311829e-01, -2.32311829e-01,\n",
       "        -8.38136021e-02, -7.78941434e-02, -5.88206594e-01,\n",
       "        -6.64470163e-03, -1.17566990e-01,  7.53567952e-01,\n",
       "        -1.82955324e-01, -3.33739719e-02, -2.16955276e-01,\n",
       "         1.57196321e-01, -1.57196321e-01, -1.42524300e-02,\n",
       "        -1.24093556e+00, -5.47127193e-02, -5.90108709e-02,\n",
       "        -4.17834171e-01, -5.14691830e-03,  2.11316583e+00,\n",
       "        -1.15094690e-02, -2.45112678e-02, -6.65257948e-02,\n",
       "        -2.30107917e-01, -1.06240883e-01, -7.71480887e-01,\n",
       "        -2.46396174e-01, -3.73845253e-01,  1.13966614e+00,\n",
       "        -2.85135494e-02, -7.27893807e-03, -3.27043642e-02,\n",
       "         7.92093668e-01, -7.90308533e-01, -1.44853060e+00,\n",
       "        -7.80088001e-02, -1.90305549e-02, -2.64208003e-02,\n",
       "        -1.92613218e-02, -7.00497175e-02, -2.50464540e-02,\n",
       "        -2.28294047e-01,  1.68601017e+00, -5.02661405e-01,\n",
       "        -2.14579654e-01, -1.10658315e-01, -2.97880741e-01,\n",
       "        -3.66381468e-01,  2.10255445e+00, -2.39301110e-01,\n",
       "        -5.07329588e-01, -1.24221432e-01, -3.02425303e-01],\n",
       "       [ 7.39205115e-02,  2.32311829e-01, -2.32311829e-01,\n",
       "        -8.38136021e-02, -7.78941434e-02, -5.88206594e-01,\n",
       "        -6.64470163e-03, -1.17566990e-01,  7.53567952e-01,\n",
       "        -1.82955324e-01, -3.33739719e-02, -2.16955276e-01,\n",
       "         1.57196321e-01, -1.57196321e-01, -1.42524300e-02,\n",
       "         8.05843619e-01, -5.47127193e-02, -5.90108709e-02,\n",
       "        -4.17834171e-01, -5.14691830e-03, -4.73223628e-01,\n",
       "        -1.15094690e-02, -2.45112678e-02, -6.65257948e-02,\n",
       "        -2.30107917e-01, -1.06240883e-01, -7.71480887e-01,\n",
       "        -2.46396174e-01,  2.67490357e+00, -8.77449953e-01,\n",
       "        -2.85135494e-02, -7.27893807e-03, -3.27043642e-02,\n",
       "         7.92093668e-01, -7.90308533e-01,  6.90354762e-01,\n",
       "        -7.80088001e-02, -1.90305549e-02, -2.64208003e-02,\n",
       "        -1.92613218e-02, -7.00497175e-02, -2.50464540e-02,\n",
       "        -2.28294047e-01, -5.93116233e-01, -5.02661405e-01,\n",
       "        -2.14579654e-01, -1.10658315e-01, -2.97880741e-01,\n",
       "        -3.66381468e-01, -4.75611940e-01, -2.39301110e-01,\n",
       "         1.97110522e+00, -1.24221432e-01, -3.02425303e-01],\n",
       "       [ 7.39205115e-02,  2.32311829e-01, -2.32311829e-01,\n",
       "        -8.38136021e-02, -7.78941434e-02, -5.88206594e-01,\n",
       "        -6.64470163e-03, -1.17566990e-01, -1.32702034e+00,\n",
       "         5.46581525e+00, -3.33739719e-02, -2.16955276e-01,\n",
       "         1.57196321e-01, -1.57196321e-01, -1.42524300e-02,\n",
       "        -1.24093556e+00, -5.47127193e-02, -5.90108709e-02,\n",
       "         2.39329396e+00, -5.14691830e-03, -4.73223628e-01,\n",
       "        -1.15094690e-02, -2.45112678e-02, -6.65257948e-02,\n",
       "        -2.30107917e-01, -1.06240883e-01, -7.71480887e-01,\n",
       "        -2.46396174e-01, -3.73845253e-01,  1.13966614e+00,\n",
       "        -2.85135494e-02, -7.27893807e-03, -3.27043642e-02,\n",
       "         7.92093668e-01, -7.90308533e-01, -1.44853060e+00,\n",
       "        -7.80088001e-02, -1.90305549e-02, -2.64208003e-02,\n",
       "        -1.92613218e-02, -7.00497175e-02, -2.50464540e-02,\n",
       "        -2.28294047e-01,  1.68601017e+00, -5.02661405e-01,\n",
       "        -2.14579654e-01, -1.10658315e-01, -2.97880741e-01,\n",
       "        -3.66381468e-01,  2.10255445e+00, -2.39301110e-01,\n",
       "        -5.07329588e-01, -1.24221432e-01, -3.02425303e-01]])"
      ]
     },
     "execution_count": 263,
     "metadata": {},
     "output_type": "execute_result"
    }
   ],
   "source": [
    "X = preprocessing.StandardScaler().fit(X).transform(X.astype(float))\n",
    "X[0:5]"
   ]
  },
  {
   "cell_type": "code",
   "execution_count": 264,
   "metadata": {},
   "outputs": [],
   "source": [
    "X_train,X_test,Y_train,Y_test = train_test_split(X,Y,test_size=0.3,random_state=4)"
   ]
  },
  {
   "cell_type": "code",
   "execution_count": 265,
   "metadata": {},
   "outputs": [
    {
     "name": "stdout",
     "output_type": "stream",
     "text": [
      "X train = (79275, 54)\n",
      "X train = (79275,)\n",
      "X train = (33975, 54)\n",
      "X train = (33975,)\n"
     ]
    }
   ],
   "source": [
    "print (\"X train =\" ,X_train.shape)\n",
    "print (\"X train =\" ,Y_train.shape)\n",
    "print (\"X train =\" ,X_test.shape)\n",
    "print (\"X train =\" ,Y_test.shape)"
   ]
  },
  {
   "cell_type": "markdown",
   "metadata": {},
   "source": [
    "## Support Vector Machine"
   ]
  },
  {
   "cell_type": "code",
   "execution_count": 266,
   "metadata": {},
   "outputs": [],
   "source": [
    "from sklearn import svm"
   ]
  },
  {
   "cell_type": "code",
   "execution_count": 267,
   "metadata": {},
   "outputs": [
    {
     "data": {
      "text/plain": [
       "SVC(C=1.0, break_ties=False, cache_size=200, class_weight=None, coef0=0.0,\n",
       "    decision_function_shape='ovr', degree=3, gamma='scale', kernel='rbf',\n",
       "    max_iter=-1, probability=False, random_state=None, shrinking=True,\n",
       "    tol=0.001, verbose=False)"
      ]
     },
     "execution_count": 267,
     "metadata": {},
     "output_type": "execute_result"
    }
   ],
   "source": [
    "# Radio Base Fuction hyperplane\n",
    "clf = svm.SVC(kernel='rbf')\n",
    "clf.fit(X_train,Y_train)"
   ]
  },
  {
   "cell_type": "code",
   "execution_count": 269,
   "metadata": {},
   "outputs": [
    {
     "data": {
      "text/plain": [
       "array([2, 2, 1, 1, 1], dtype=int64)"
      ]
     },
     "execution_count": 269,
     "metadata": {},
     "output_type": "execute_result"
    }
   ],
   "source": [
    "yhat_SVM = clf.predict(X_test)\n",
    "yhat_SVM[0:5]"
   ]
  },
  {
   "cell_type": "code",
   "execution_count": null,
   "metadata": {},
   "outputs": [],
   "source": []
  },
  {
   "cell_type": "markdown",
   "metadata": {},
   "source": [
    "## Decision Tree"
   ]
  },
  {
   "cell_type": "code",
   "execution_count": 270,
   "metadata": {},
   "outputs": [],
   "source": [
    "from sklearn.tree import DecisionTreeClassifier"
   ]
  },
  {
   "cell_type": "code",
   "execution_count": 272,
   "metadata": {},
   "outputs": [
    {
     "data": {
      "text/plain": [
       "DecisionTreeClassifier(ccp_alpha=0.0, class_weight=None, criterion='entropy',\n",
       "                       max_depth=4, max_features=None, max_leaf_nodes=None,\n",
       "                       min_impurity_decrease=0.0, min_impurity_split=None,\n",
       "                       min_samples_leaf=1, min_samples_split=2,\n",
       "                       min_weight_fraction_leaf=0.0, presort='deprecated',\n",
       "                       random_state=None, splitter='best')"
      ]
     },
     "execution_count": 272,
     "metadata": {},
     "output_type": "execute_result"
    }
   ],
   "source": [
    "Atree = DecisionTreeClassifier(criterion=\"entropy\",max_depth=4)\n",
    "Atree.fit(X_train,Y_train)"
   ]
  },
  {
   "cell_type": "code",
   "execution_count": 273,
   "metadata": {},
   "outputs": [],
   "source": [
    "yhat_DCT= Atree.predict(X_test)"
   ]
  },
  {
   "cell_type": "code",
   "execution_count": 274,
   "metadata": {},
   "outputs": [
    {
     "data": {
      "text/plain": [
       "array([2, 2, 1, 1, 2], dtype=int64)"
      ]
     },
     "execution_count": 274,
     "metadata": {},
     "output_type": "execute_result"
    }
   ],
   "source": [
    "yhat_DCT[0:5]"
   ]
  },
  {
   "cell_type": "markdown",
   "metadata": {},
   "source": [
    "## Log Regression"
   ]
  },
  {
   "cell_type": "code",
   "execution_count": 275,
   "metadata": {},
   "outputs": [],
   "source": [
    "from sklearn.linear_model import LogisticRegression"
   ]
  },
  {
   "cell_type": "code",
   "execution_count": 276,
   "metadata": {},
   "outputs": [
    {
     "data": {
      "text/plain": [
       "LogisticRegression(C=0.01, class_weight=None, dual=False, fit_intercept=True,\n",
       "                   intercept_scaling=1, l1_ratio=None, max_iter=100,\n",
       "                   multi_class='auto', n_jobs=None, penalty='l2',\n",
       "                   random_state=None, solver='liblinear', tol=0.0001, verbose=0,\n",
       "                   warm_start=False)"
      ]
     },
     "execution_count": 276,
     "metadata": {},
     "output_type": "execute_result"
    }
   ],
   "source": [
    "LR = LogisticRegression(C=0.01,solver='liblinear').fit(X_train,Y_train)\n",
    "LR.fit(X_train,Y_train)"
   ]
  },
  {
   "cell_type": "code",
   "execution_count": 278,
   "metadata": {},
   "outputs": [
    {
     "data": {
      "text/plain": [
       "array([2, 2, 1, 1, 2], dtype=int64)"
      ]
     },
     "execution_count": 278,
     "metadata": {},
     "output_type": "execute_result"
    }
   ],
   "source": [
    "yhat_LR=LR.predict(X_test)\n",
    "yhat_LR[0:5]"
   ]
  },
  {
   "cell_type": "markdown",
   "metadata": {},
   "source": [
    "### Result LG, DecisionTree and SVM"
   ]
  },
  {
   "cell_type": "markdown",
   "metadata": {},
   "source": [
    "### SVM"
   ]
  },
  {
   "cell_type": "code",
   "execution_count": 279,
   "metadata": {},
   "outputs": [
    {
     "name": "stdout",
     "output_type": "stream",
     "text": [
      "[[13461     0]\n",
      " [    0     0]]\n",
      "              precision    recall  f1-score   support\n",
      "\n",
      "           1       0.74      0.61      0.67     16926\n",
      "           2       0.67      0.79      0.73     17049\n",
      "\n",
      "    accuracy                           0.70     33975\n",
      "   macro avg       0.71      0.70      0.70     33975\n",
      "weighted avg       0.71      0.70      0.70     33975\n",
      "\n"
     ]
    }
   ],
   "source": [
    "print(confusion_matrix(Y_test,yhat_SVM, labels=[2,4]))\n",
    "#Confussion Matrix compute\n",
    "print(classification_report(Y_test,yhat_SVM))"
   ]
  },
  {
   "cell_type": "markdown",
   "metadata": {},
   "source": [
    "### Decision Tree"
   ]
  },
  {
   "cell_type": "code",
   "execution_count": 280,
   "metadata": {},
   "outputs": [
    {
     "name": "stdout",
     "output_type": "stream",
     "text": [
      "[[13461     0]\n",
      " [    0     0]]\n",
      "              precision    recall  f1-score   support\n",
      "\n",
      "           1       0.83      0.45      0.58     16926\n",
      "           2       0.62      0.91      0.74     17049\n",
      "\n",
      "    accuracy                           0.68     33975\n",
      "   macro avg       0.73      0.68      0.66     33975\n",
      "weighted avg       0.73      0.68      0.66     33975\n",
      "\n"
     ]
    }
   ],
   "source": [
    "print(confusion_matrix(Y_test,yhat_SVM, labels=[2,4]))\n",
    "#Confussion Matrix compute\n",
    "print(classification_report(Y_test,yhat_DCT))"
   ]
  },
  {
   "cell_type": "markdown",
   "metadata": {},
   "source": [
    "### Logistic Regression"
   ]
  },
  {
   "cell_type": "code",
   "execution_count": 281,
   "metadata": {},
   "outputs": [
    {
     "name": "stdout",
     "output_type": "stream",
     "text": [
      "[[13461     0]\n",
      " [    0     0]]\n",
      "              precision    recall  f1-score   support\n",
      "\n",
      "           1       0.76      0.58      0.66     16926\n",
      "           2       0.66      0.82      0.73     17049\n",
      "\n",
      "    accuracy                           0.70     33975\n",
      "   macro avg       0.71      0.70      0.69     33975\n",
      "weighted avg       0.71      0.70      0.69     33975\n",
      "\n"
     ]
    }
   ],
   "source": [
    "print(confusion_matrix(Y_test,yhat_SVM, labels=[2,4]))\n",
    "#Confussion Matrix compute\n",
    "print(classification_report(Y_test,yhat_LR))"
   ]
  },
  {
   "cell_type": "markdown",
   "metadata": {},
   "source": [
    "# Discussion section"
   ]
  },
  {
   "cell_type": "markdown",
   "metadata": {},
   "source": [
    "This is a classification problem. In consequence I used three classification machine learning algorithms so as to predict the severity of a car accident in Seattle. This algorithms are Support Vector Machine(SVM), Logistic Regression (LR) and Decision Tree. As we can see above, the SVM provides a better performance."
   ]
  },
  {
   "cell_type": "markdown",
   "metadata": {},
   "source": [
    "# CONCLUSION:"
   ]
  },
  {
   "cell_type": "markdown",
   "metadata": {},
   "source": [
    "The problem statement is to predict severity of road accidents in Seattle City.It will be very useful an accurate prediction to the following audience:\n",
    "\n",
    "City administration\n",
    "Seattle city administrators can take precautions based on this data. They can set up speed limits and other precautionary measures such as speed breakers.\n",
    "\n",
    "Hospitals\n",
    "Hospitals can be placed near high accident areas in order to help quickly to any victim.\n",
    "\n",
    "Due to the weather, road conditions or locations we can be aware about dangers an drive carefully or even change our route towards our destiny.\n",
    "\n",
    "We found main factors to cause severity in accidents which are:\n",
    "Address type where the accident took place, the collision type, the number of vehicles involved in the accident, the junction type where the accident occurred, whether the driver was under the influence of alcohol, the weather conditions, road conditions and light conditions during the accidents, and whether the accident involved hitting a parked car.\n",
    "The Support Vector Machine proved to be the most accurate to predict the severity in car accidents\n"
   ]
  }
 ],
 "metadata": {
  "kernelspec": {
   "display_name": "Python 3",
   "language": "python",
   "name": "python3"
  },
  "language_info": {
   "codemirror_mode": {
    "name": "ipython",
    "version": 3
   },
   "file_extension": ".py",
   "mimetype": "text/x-python",
   "name": "python",
   "nbconvert_exporter": "python",
   "pygments_lexer": "ipython3",
   "version": "3.7.6"
  }
 },
 "nbformat": 4,
 "nbformat_minor": 4
}
